{
 "metadata": {
  "language_info": {
   "codemirror_mode": {
    "name": "ipython",
    "version": 3
   },
   "file_extension": ".py",
   "mimetype": "text/x-python",
   "name": "python",
   "nbconvert_exporter": "python",
   "pygments_lexer": "ipython3",
   "version": 3
  },
  "orig_nbformat": 2,
  "kernelspec": {
   "name": "python_defaultSpec_1596944185493",
   "display_name": "Python 3.8.3 64-bit"
  }
 },
 "nbformat": 4,
 "nbformat_minor": 2,
 "cells": [
  {
   "cell_type": "code",
   "execution_count": 1,
   "metadata": {
    "tags": []
   },
   "outputs": [
    {
     "output_type": "execute_result",
     "data": {
      "text/plain": "['https://open.spotify.com/track/6uDAirfWwKdb33tFMEkNEg?si=dReybEQdS_i6jcmNOgy4Rg']"
     },
     "metadata": {},
     "execution_count": 1
    }
   ],
   "source": [
    "import requests\n",
    "import json\n",
    "import datetime\n",
    "\n",
    "#music 741789363083542608\n",
    "#general 693968832859209802\n",
    "\n",
    "channel_id = 693968832859209802\n",
    "token = os.getenv(\"discord_token\")\n",
    "\n",
    "run_lag = datetime.datetime.now() - datetime.timedelta(minutes=15)\n",
    "\n",
    "def get_messages(snowflake):\n",
    "    if snowflake != \"\":\n",
    "        param = f\"?before={snowflake}\"\n",
    "    else:\n",
    "        param = \"\"\n",
    "    base_url = f\"https://discord.com/api/channels/{channel_id}/messages{param}\"\n",
    "    r = requests.get(base_url, headers={'Authorization': f'Bot {token}'}).text\n",
    "    messages = json.loads(r)\n",
    "    return messages\n",
    "\n",
    "snowflake = \"\"\n",
    "\n",
    "spotify_links = []\n",
    "\n",
    "more_messages = True\n",
    "while more_messages == True:\n",
    "    messages = get_messages(snowflake)\n",
    "    snowflake = messages[-1].get(\"id\")\n",
    "    for message in messages:\n",
    "        timestamp = datetime.datetime.strptime(message.get(\"timestamp\"), \"%Y-%m-%dT%H:%M:%S.%f%z\").replace(tzinfo=None)\n",
    "        if timestamp > run_lag:\n",
    "            if \"open.spotify.com/track\" in message.get(\"content\"):\n",
    "                spotify_links.append(message.get(\"content\"))\n",
    "        else:\n",
    "            more_messages = False\n",
    "            break\n",
    "\n",
    "spotify_links"
   ]
  },
  {
   "cell_type": "code",
   "execution_count": null,
   "metadata": {},
   "outputs": [],
   "source": []
  }
 ]
}