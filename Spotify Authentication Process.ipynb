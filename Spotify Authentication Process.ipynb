{
 "metadata": {
  "language_info": {
   "codemirror_mode": {
    "name": "ipython",
    "version": 3
   },
   "file_extension": ".py",
   "mimetype": "text/x-python",
   "name": "python",
   "nbconvert_exporter": "python",
   "pygments_lexer": "ipython3",
   "version": 3
  },
  "orig_nbformat": 2,
  "kernelspec": {
   "name": "python_defaultSpec_1597016161031",
   "display_name": "Python 3.8.3 64-bit"
  }
 },
 "nbformat": 4,
 "nbformat_minor": 2,
 "cells": [
  {
   "cell_type": "markdown",
   "metadata": {},
   "source": [
    "# Spotify Authentication Process"
   ]
  },
  {
   "cell_type": "markdown",
   "metadata": {},
   "source": [
    "This guide is based off of the Spotify authentication documentation.\n",
    "\n",
    "## SETUP\n",
    "The first step is to register an app. This can be done from the Spotify Developer dashboard: https://developer.spotify.com/dashboard/applications\n",
    "\n",
    "When you setup your application, Spotify will ask you for a \"Redirect URI\" during the registration process. For the purposes of this tutorial, \"http://127.0.0.1/\" is used.\n",
    "\n",
    "After registering an app you will recieve a \"Client ID\" and a \"Client Secret\". For the purpose of this tutorial, both are set as Environment Variables but feel free to replace the variables below to plain text if security is not an issue."
   ]
  },
  {
   "cell_type": "code",
   "execution_count": null,
   "metadata": {},
   "outputs": [],
   "source": [
    "# Run this code FIRST to import libraries and set Environment Variables\n",
    "\n",
    "import requests\n",
    "import json\n",
    "\n",
    "client_id = os.getenv(\"SPOTIFY_CLIENT_ID\")\n",
    "client_secret = os.getenv(\"SPOTIFY_CLIENT_SECRET\")\n",
    "redirect_uri = \"http://127.0.0.1/\""
   ]
  },
  {
   "cell_type": "markdown",
   "metadata": {},
   "source": [
    "## 1. Have your application request authorization; the user logs in and authorizes access\n",
    "\n",
    "This is the first step in the Spotify auth process. This will generate a URL will be used to get the authentication code confirming that the user is giving the app permission to access their account."
   ]
  },
  {
   "cell_type": "code",
   "execution_count": null,
   "metadata": {
    "tags": []
   },
   "outputs": [],
   "source": [
    "def get_spotify_auth_url():\n",
    "    payload = {\n",
    "        \"client_id\":client_id,\n",
    "        \"response_type\": \"code\",\n",
    "        \"redirect_uri\": redirect_uri,\n",
    "        \"scope\": \"playlist-modify-private playlist-modify-public\"\n",
    "        }\n",
    "    auth_url = requests.get(\"https://accounts.spotify.com/authorize\", params=payload).url\n",
    "\n",
    "    # returns an auth_url which is used to get auth_code\n",
    "    return auth_url\n",
    "\n",
    "spotify_auth_url = get_spotify_auth_url()\n",
    "print(\"Please go to the following URL. You will be redirrected to a new URL, please paste the COMPLETE URL in the following dialog box\")\n",
    "print(spotify_auth_url)\n",
    "auth_code = input()\n",
    "auth_code = auth_code.split(\"code=\")[1]\n",
    "\n",
    "print(auth_code)"
   ]
  },
  {
   "cell_type": "markdown",
   "metadata": {},
   "source": [
    "## 2. Have your application request refresh and access tokens; Spotify returns access and refresh tokens\n",
    "This takes the Spotify auth_code and returns an access_token which can be used to make Spotify API requests.\n",
    "The refresh_token can be used to get a new access_token at a later time (typically expires in one hour)."
   ]
  },
  {
   "cell_type": "code",
   "execution_count": null,
   "metadata": {
    "tags": []
   },
   "outputs": [],
   "source": [
    "def get_spotify_access_token(auth_code):\n",
    "    data = {\n",
    "        \"client_id\": client_id,\n",
    "        \"client_secret\": client_secret,\n",
    "        \"grant_type\": \"authorization_code\",\n",
    "        \"code\": auth_code,\n",
    "        \"redirect_uri\": redirect_uri\n",
    "        }\n",
    "    resp = requests.post(\"https://accounts.spotify.com/api/token\", data = data).content\n",
    "    access_token_resp = json.loads(resp)\n",
    "\n",
    "    # returns dictionary which contains access_token and refresh_token, among other things\n",
    "    return access_token_resp\n",
    "\n",
    "spotify_access_token = get_spotify_access_token(auth_code)\n",
    "\n",
    "access_token = spotify_access_token.get(\"access_token\")\n",
    "refresh_token = spotify_access_token.get(\"refresh_token\")"
   ]
  },
  {
   "cell_type": "markdown",
   "metadata": {},
   "source": [
    "## 3. Use refresh token to generate new auth_tokens\n",
    "access_token will expire after a while (60 minutes at the time of this guide). Once they expire they cannot be used. If the access_token has expired you can use the refresh_token to generate a new access_token"
   ]
  },
  {
   "cell_type": "code",
   "execution_count": null,
   "metadata": {
    "tags": []
   },
   "outputs": [],
   "source": [
    "def spotify_refresh_token(refresh_token):\n",
    "    data = {\n",
    "        \"client_id\": client_id,\n",
    "        \"client_secret\": client_secret,\n",
    "        \"grant_type\":\"refresh_token\",\n",
    "        \"refresh_token\":refresh_token\n",
    "        }\n",
    "    resp = requests.post(\"https://accounts.spotify.com/api/token\", data = data).content\n",
    "    access_token_resp = json.loads(resp)\n",
    "    access_token = access_token_resp.get(\"access_token\")\n",
    "    return access_token\n",
    "\n",
    "access_token = spotify_refresh_token(refresh_token)\n",
    "print(access_token)"
   ]
  }
 ]
}